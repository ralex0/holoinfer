{
 "cells": [
  {
   "cell_type": "code",
   "execution_count": 1,
   "metadata": {
    "collapsed": true
   },
   "outputs": [],
   "source": [
    "%matplotlib inline"
   ]
  },
  {
   "cell_type": "markdown",
   "metadata": {},
   "source": [
    "# Imports"
   ]
  },
  {
   "cell_type": "code",
   "execution_count": 2,
   "metadata": {
    "collapsed": true
   },
   "outputs": [],
   "source": [
    "from holoinfer.model import hologram, math\n",
    "\n",
    "import numpy as np\n",
    "import scipy.optimize as op\n",
    "\n",
    "import matplotlib.pyplot as plt\n",
    "\n",
    "import emcee\n",
    "\n",
    "from lmfit import minimize, Parameters"
   ]
  },
  {
   "cell_type": "markdown",
   "metadata": {},
   "source": [
    "# New Functions"
   ]
  },
  {
   "cell_type": "code",
   "execution_count": 3,
   "metadata": {
    "collapsed": true
   },
   "outputs": [],
   "source": [
    "def chisq(obs, exp, axis=0):\n",
    "    return np.sum((obs - exp)**2/exp, axis=axis)"
   ]
  },
  {
   "cell_type": "code",
   "execution_count": 4,
   "metadata": {
    "collapsed": true
   },
   "outputs": [],
   "source": [
    "def dist(*vec):\n",
    "    return np.sqrt(vec[0]**2 + vec[1]**2 + vec[2]**2)"
   ]
  },
  {
   "cell_type": "code",
   "execution_count": 5,
   "metadata": {
    "collapsed": true
   },
   "outputs": [],
   "source": [
    "def rg_sphere_holo(position, k, cx, cy, cz, re_m, im_m, a):\n",
    "    r = (position - np.array([cx, cy, cz])).T\n",
    "    r = dist(r[0], r[1], r[2])\n",
    "\n",
    "    z = cz\n",
    "    theta = np.arccos(z / r)\n",
    "\n",
    "    x = k * a\n",
    "    u = 2 * x * np.sin(.5 * theta)\n",
    "    g = 3 / u ** 3 * (np.sin(u) - u * np.cos(u))\n",
    "\n",
    "    s2_mag = k ** 3 * a ** 3 * np.sqrt(re_m * re_m + im_m * im_m - 2 * re_m + 1) * 2 / 3 * np.abs(np.cos(theta)) * g\n",
    "    s2_phase = np.arctan((1 - re_m) / im_m) if im_m != 0 else np.pi / 2\n",
    "\n",
    "    holo_scatt = (1 / (k * r) * s2_mag) ** 2\n",
    "    holo_inter = 2 * 1/(k*r) * np.sqrt(s2_mag**2) * np.sin(k*(r-z) + s2_phase)\n",
    "\n",
    "    holo_full = holo_scatt + holo_inter + 1\n",
    "\n",
    "    return holo_full"
   ]
  },
  {
   "cell_type": "code",
   "execution_count": null,
   "metadata": {
    "collapsed": true
   },
   "outputs": [],
   "source": [
    "def loglikelihood(theta, x=None, k=None, obs=None): \n",
    "    cx, cy, cz, re_m, im_m, a = theta\n",
    "    exp = rg_sphere_holo(x, k, *theta)\n",
    "    return 0.5*np.sum((obs-exp)**2)"
   ]
  },
  {
   "cell_type": "code",
   "execution_count": 6,
   "metadata": {
    "collapsed": true
   },
   "outputs": [],
   "source": [
    "def residual(params, grid, data):\n",
    "    k = params['wavevector']\n",
    "    x = params['x']\n",
    "    y = params['y']\n",
    "    z = params['z']\n",
    "    re_m = params['rem']\n",
    "    im_m = params['imm']\n",
    "    a = params['r']\n",
    "    \n",
    "    model = rg_sphere_holo(grid, k, x, y, z, re_m, im_m, a)\n",
    "\n",
    "    return data-model"
   ]
  },
  {
   "cell_type": "markdown",
   "metadata": {},
   "source": [
    "# Generate Holograms"
   ]
  },
  {
   "cell_type": "code",
   "execution_count": 7,
   "metadata": {
    "collapsed": false
   },
   "outputs": [],
   "source": [
    "scaling = 1\n",
    "pixel_size = 0.0858/scaling # All units are in microns\n",
    "grid_size = int(500*scaling)\n",
    "\n",
    "illum_wavelength = .660\n",
    "med_index = 1.33\n",
    "\n",
    "illum_wavenumber = 2*np.pi/illum_wavelength\n",
    "\n",
    "\n",
    "x = y = np.linspace(0, pixel_size*grid_size, int(grid_size))\n",
    "z = 0\n",
    "detector_grid = math.cartesian(x, y, z)"
   ]
  },
  {
   "cell_type": "code",
   "execution_count": 8,
   "metadata": {
    "collapsed": false
   },
   "outputs": [],
   "source": [
    "sc_center = np.array([150*pixel_size, 150*pixel_size, 5])\n",
    "sc_radius = .5\n",
    "sc_index = 1.4734\n",
    "rel_index = np.array([sc_index/med_index, 0])\n",
    "\n",
    "obs = rg_sphere_holo(detector_grid, illum_wavenumber, *sc_center, *rel_index, sc_radius)"
   ]
  },
  {
   "cell_type": "code",
   "execution_count": 9,
   "metadata": {
    "collapsed": false
   },
   "outputs": [
    {
     "data": {
      "text/plain": [
       "<matplotlib.image.AxesImage at 0x227ded329e8>"
      ]
     },
     "execution_count": 9,
     "metadata": {},
     "output_type": "execute_result"
    },
    {
     "data": {
      "image/png": "[encoded data removed]",
      "text/plain": [
       "<matplotlib.figure.Figure at 0x227dec98e80>"
      ]
     },
     "metadata": {},
     "output_type": "display_data"
    }
   ],
   "source": [
    "obs_s = obs.reshape((grid_size, grid_size))\n",
    "\n",
    "plt.gray()\n",
    "\n",
    "plt.imshow(obs_s)"
   ]
  },
  {
   "cell_type": "markdown",
   "metadata": {},
   "source": [
    "# Fit with scipy.optimize.minimize"
   ]
  },
  {
   "cell_type": "code",
   "execution_count": null,
   "metadata": {
    "collapsed": false
   },
   "outputs": [],
   "source": [
    "test = op.minimize(loglikelihood, [350*pixel_size, 200*pixel_size, 8, 1.1, 0, 1], args=(detector_grid, illum_wavenumber, obs),\n",
    "                  bounds=[(0, grid_size*pixel_size), (0, grid_size*pixel_size), (2, 8), (1,2), (0,1), (illum_wavelength/10, illum_wavelength*10)])"
   ]
  },
  {
   "cell_type": "code",
   "execution_count": null,
   "metadata": {
    "collapsed": false
   },
   "outputs": [],
   "source": [
    "calch = rg_sphere_holo(detector_grid, illum_wavenumber, *test['x'])\n",
    "plt.imshow(calch.reshape(500,500))\n",
    "plt.gray()"
   ]
  },
  {
   "cell_type": "code",
   "execution_count": null,
   "metadata": {
    "collapsed": false
   },
   "outputs": [],
   "source": [
    "chisq(calch, obs)"
   ]
  },
  {
   "cell_type": "markdown",
   "metadata": {},
   "source": [
    "# Fit with lmfit"
   ]
  },
  {
   "cell_type": "code",
   "execution_count": 10,
   "metadata": {
    "collapsed": false
   },
   "outputs": [],
   "source": [
    "params = None\n",
    "params = Parameters()\n",
    "params.add('wavevector', value=2*np.pi/illum_wavelength, min=0, vary=False)\n",
    "params.add('x', value=100*pixel_size, min=0, max=500*pixel_size)\n",
    "params.add('y', value=150*pixel_size, vary=False)\n",
    "params.add('z', value=5, vary=False)\n",
    "params.add('rem', value=1.108, vary=False)\n",
    "params.add('imm', value=0, vary=False)\n",
    "params.add('r', value=.5, vary=False)"
   ]
  },
  {
   "cell_type": "code",
   "execution_count": 11,
   "metadata": {
    "collapsed": false
   },
   "outputs": [],
   "source": [
    "out = minimize(residual, params, args=(detector_grid, obs))"
   ]
  },
  {
   "cell_type": "code",
   "execution_count": 12,
   "metadata": {
    "collapsed": false
   },
   "outputs": [
    {
     "name": "stdout",
     "output_type": "stream",
     "text": [
      "Name           Value      Min      Max   Stderr     Vary     Expr Brute_Step\n",
      "imm                0     -inf      inf        0    False     None     None\n",
      "r                0.5     -inf      inf        0    False     None     None\n",
      "rem            1.108     -inf      inf        0    False     None     None\n",
      "wavevector      9.52        0      inf        0    False     None     None\n",
      "x              7.928        0     42.9  0.00109     True     None     None\n",
      "y              12.87     -inf      inf        0    False     None     None\n",
      "z                  5     -inf      inf        0    False     None     None\n"
     ]
    }
   ],
   "source": [
    "out.params.pretty_print()"
   ]
  },
  {
   "cell_type": "code",
   "execution_count": 13,
   "metadata": {
    "collapsed": false
   },
   "outputs": [
    {
     "data": {
      "text/plain": [
       "199.64674428531825"
      ]
     },
     "execution_count": 13,
     "metadata": {},
     "output_type": "execute_result"
    }
   ],
   "source": [
    "out.chisqr"
   ]
  },
  {
   "cell_type": "code",
   "execution_count": 14,
   "metadata": {
    "collapsed": false
   },
   "outputs": [],
   "source": [
    "fitparams = [out.params[key].value for key in out.params]\n",
    "infholo = rg_sphere_holo(detector_grid, *fitparams)"
   ]
  },
  {
   "cell_type": "code",
   "execution_count": 15,
   "metadata": {
    "collapsed": false
   },
   "outputs": [
    {
     "data": {
      "text/plain": [
       "<matplotlib.image.AxesImage at 0x227df204128>"
      ]
     },
     "execution_count": 15,
     "metadata": {},
     "output_type": "execute_result"
    },
    {
     "data": {
      "image/png": "[encoded data removed]",
      "text/plain": [
       "<matplotlib.figure.Figure at 0x227def40390>"
      ]
     },
     "metadata": {},
     "output_type": "display_data"
    }
   ],
   "source": [
    "infholo_s = infholo.reshape((grid_size, grid_size))\n",
    "plt.imshow(infholo_s)"
   ]
  },
  {
   "cell_type": "code",
   "execution_count": 17,
   "metadata": {
    "collapsed": false
   },
   "outputs": [
    {
     "data": {
      "text/plain": [
       "92.395235128453905"
      ]
     },
     "execution_count": 17,
     "metadata": {},
     "output_type": "execute_result"
    }
   ],
   "source": [
    "out.params['x'].value / pixel_size"
   ]
  },
  {
   "cell_type": "code",
   "execution_count": null,
   "metadata": {
    "collapsed": true
   },
   "outputs": [],
   "source": []
  }
 ],
 "metadata": {
  "kernelspec": {
   "display_name": "Python 3",
   "language": "python",
   "name": "python3"
  },
  "language_info": {
   "codemirror_mode": {
    "name": "ipython",
    "version": 3
   },
   "file_extension": ".py",
   "mimetype": "text/x-python",
   "name": "python",
   "nbconvert_exporter": "python",
   "pygments_lexer": "ipython3",
   "version": "3.6.1"
  }
 },
 "nbformat": 4,
 "nbformat_minor": 2
}
