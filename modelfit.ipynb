{
 "cells": [
  {
   "cell_type": "code",
   "execution_count": 1,
   "metadata": {
    "collapsed": true
   },
   "outputs": [],
   "source": [
    "%matplotlib inline"
   ]
  },
  {
   "cell_type": "markdown",
   "metadata": {},
   "source": [
    "# Imports"
   ]
  },
  {
   "cell_type": "code",
   "execution_count": 2,
   "metadata": {
    "collapsed": true
   },
   "outputs": [],
   "source": [
    "from holoinfer.model import hologram, math\n",
    "\n",
    "import numpy as np\n",
    "\n",
    "import matplotlib.pyplot as plt\n",
    "\n",
    "import emcee\n",
    "\n",
    "from lmfit import minimize, Parameters\n",
    "\n",
    "import functools"
   ]
  },
  {
   "cell_type": "markdown",
   "metadata": {},
   "source": [
    "# New Functions"
   ]
  },
  {
   "cell_type": "markdown",
   "metadata": {},
   "source": [
    "## Holograms:"
   ]
  },
  {
   "cell_type": "markdown",
   "metadata": {},
   "source": [
    "Original theano-freindly version:"
   ]
  },
  {
   "cell_type": "code",
   "execution_count": null,
   "metadata": {
    "collapsed": true
   },
   "outputs": [],
   "source": [
    "def dist(*vec):\n",
    "    return np.sqrt(vec[0]**2 + vec[1]**2 + vec[2]**2)\n",
    "\n",
    "def rg_sphere_holo(position, k, cx, cy, cz, re_m, im_m, a):\n",
    "    r = (position - np.array([cx, cy, cz])).T\n",
    "    r = dist(r[0], r[1], r[2])\n",
    "\n",
    "    z = cz\n",
    "    theta = np.arccos(z / r)\n",
    "\n",
    "    x = k * a\n",
    "    u = 2 * x * np.sin(.5 * theta)\n",
    "    g = 3 / u ** 3 * (np.sin(u) - u * np.cos(u))\n",
    "\n",
    "    s2_mag = k ** 3 * a ** 3 * np.sqrt(re_m * re_m + im_m * im_m - 2 * re_m + 1) * 2 / 3 * np.abs(np.cos(theta)) * g\n",
    "    s2_phase = np.arctan((1 - re_m) / im_m) if im_m != 0 else np.pi / 2\n",
    "\n",
    "    holo_scatt = (1 / (k * r) * s2_mag) ** 2\n",
    "    holo_inter = 2 * 1/(k*r) * np.sqrt(s2_mag**2) * np.sin(k*(r-z) + s2_phase)\n",
    "\n",
    "    holo_full = holo_scatt + holo_inter + 1\n",
    "\n",
    "    return holo_full"
   ]
  },
  {
   "cell_type": "markdown",
   "metadata": {},
   "source": [
    "New \"numpyish\" version:"
   ]
  },
  {
   "cell_type": "code",
   "execution_count": 3,
   "metadata": {
    "collapsed": true
   },
   "outputs": [],
   "source": [
    "def rg_sphere_holo2(*, position, k, center, m, a):\n",
    "    r = position - center\n",
    "    r = np.sqrt((r**2).sum(axis=1))\n",
    "\n",
    "    z = center[2]\n",
    "    theta = np.arccos(z / r)\n",
    "    \n",
    "    re_m, im_m = m\n",
    "\n",
    "    x = k * a\n",
    "    u = 2 * x * np.sin(.5 * theta)\n",
    "    g = 3 / u ** 3 * (np.sin(u) - u * np.cos(u))\n",
    "\n",
    "    s2_mag = k ** 3 * a ** 3 * np.sqrt(re_m * re_m + im_m * im_m - 2 * re_m + 1) * 2 / 3 * np.abs(np.cos(theta)) * g\n",
    "    s2_phase = np.arctan((1 - re_m) / im_m) if im_m != 0 else np.pi / 2\n",
    "\n",
    "    holo_scatt = (1 / (k * r) * s2_mag) ** 2\n",
    "    holo_inter = 2 * 1/(k*r) * np.sqrt(s2_mag**2) * np.sin(k*(r-z) + s2_phase)\n",
    "\n",
    "    holo_full = holo_scatt + holo_inter + 1\n",
    "\n",
    "    return holo_full"
   ]
  },
  {
   "cell_type": "markdown",
   "metadata": {},
   "source": [
    "## For Inference and/or Fitting"
   ]
  },
  {
   "cell_type": "code",
   "execution_count": 4,
   "metadata": {
    "collapsed": true
   },
   "outputs": [],
   "source": [
    "def chisq(obs, exp, axis=0):\n",
    "    return np.sum((obs - exp)**2/2, axis=axis)"
   ]
  },
  {
   "cell_type": "code",
   "execution_count": null,
   "metadata": {
    "collapsed": true
   },
   "outputs": [],
   "source": [
    "def loglikelihood(theta, x=None, k=None, obs=None): \n",
    "    cx, cy, cz, re_m, im_m, a = theta\n",
    "    exp = rg_sphere_holo(x, k, *theta)\n",
    "    return 0.5*np.sum((obs-exp)**2)"
   ]
  },
  {
   "cell_type": "code",
   "execution_count": null,
   "metadata": {
    "collapsed": true
   },
   "outputs": [],
   "source": [
    "def residual(params, grid, data):\n",
    "    k = params['wavevector']\n",
    "    x = params['x']\n",
    "    y = params['y']\n",
    "    z = params['z']\n",
    "    re_m = params['rem']\n",
    "    im_m = params['imm']\n",
    "    a = params['r']\n",
    "    \n",
    "    model = rg_sphere_holo(grid, k, x, y, z, re_m, im_m, a)\n",
    "\n",
    "    return data-model"
   ]
  },
  {
   "cell_type": "markdown",
   "metadata": {},
   "source": [
    "# Generate Holograms"
   ]
  },
  {
   "cell_type": "code",
   "execution_count": 5,
   "metadata": {
    "collapsed": false
   },
   "outputs": [],
   "source": [
    "scaling = .2 #1 is a \"full-size\" hologram\n",
    "pixel_size = 0.0858/scaling # All units are in microns\n",
    "grid_size = int(500*scaling)\n",
    "\n",
    "illum_wavelength = .660\n",
    "med_index = 1.33\n",
    "\n",
    "illum_wavenumber = 2*np.pi/illum_wavelength\n",
    "\n",
    "\n",
    "x = y = np.linspace(0, pixel_size*grid_size, int(grid_size))\n",
    "z = 0\n",
    "detector_grid = math.cartesian(x, y, z)"
   ]
  },
  {
   "cell_type": "code",
   "execution_count": 6,
   "metadata": {
    "collapsed": false
   },
   "outputs": [],
   "source": [
    "_center = np.array([50*pixel_size, 50*pixel_size, 5])\n",
    "_radius = .5\n",
    "_index = np.array([1.4734/med_index, 0])\n",
    "\n",
    "holo1 = rg_sphere_holo2(position=detector_grid, k=illum_wavenumber, center=_center, m=_index, a=_radius)"
   ]
  },
  {
   "cell_type": "code",
   "execution_count": 7,
   "metadata": {
    "collapsed": false
   },
   "outputs": [
    {
     "data": {
      "text/plain": [
       "<matplotlib.image.AxesImage at 0x2287709e128>"
      ]
     },
     "execution_count": 7,
     "metadata": {},
     "output_type": "execute_result"
    },
    {
     "data": {
      "image/png": "[encoded data removed]",
      "text/plain": [
       "<matplotlib.figure.Figure at 0x22876cb8940>"
      ]
     },
     "metadata": {},
     "output_type": "display_data"
    }
   ],
   "source": [
    "holo1_square = holo1.reshape((grid_size, grid_size))\n",
    "\n",
    "plt.gray()\n",
    "\n",
    "plt.imshow(holo1_square)"
   ]
  },
  {
   "cell_type": "markdown",
   "metadata": {},
   "source": [
    "# Fit with lmfit"
   ]
  },
  {
   "cell_type": "code",
   "execution_count": null,
   "metadata": {
    "collapsed": false
   },
   "outputs": [],
   "source": [
    "params = None\n",
    "params = Parameters()\n",
    "params.add('wavevector', value=2*np.pi/illum_wavelength, min=0, vary=False)\n",
    "params.add('x', min=0, max=500*pixel_size)\n",
    "params.add('y', value=150*pixel_size, vary=False)\n",
    "params.add('z', value=5, vary=False)\n",
    "params.add('rem', value=1.108, vary=False)\n",
    "params.add('imm', value=0, vary=False)\n",
    "params.add('r', value=.5, vary=False)"
   ]
  },
  {
   "cell_type": "code",
   "execution_count": null,
   "metadata": {
    "collapsed": false
   },
   "outputs": [],
   "source": [
    "out = minimize(residual, params, args=(detector_grid, obs))"
   ]
  },
  {
   "cell_type": "code",
   "execution_count": null,
   "metadata": {
    "collapsed": false
   },
   "outputs": [],
   "source": [
    "out.params.pretty_print()"
   ]
  },
  {
   "cell_type": "code",
   "execution_count": null,
   "metadata": {
    "collapsed": false
   },
   "outputs": [],
   "source": [
    "out.chisqr"
   ]
  },
  {
   "cell_type": "code",
   "execution_count": null,
   "metadata": {
    "collapsed": false
   },
   "outputs": [],
   "source": [
    "fitparams = [out.params[key].value for key in out.params]\n",
    "infholo = rg_sphere_holo(detector_grid, *fitparams)"
   ]
  },
  {
   "cell_type": "code",
   "execution_count": null,
   "metadata": {
    "collapsed": false
   },
   "outputs": [],
   "source": [
    "infholo_s = infholo.reshape((grid_size, grid_size))\n",
    "plt.imshow(infholo_s)"
   ]
  },
  {
   "cell_type": "code",
   "execution_count": null,
   "metadata": {
    "collapsed": false
   },
   "outputs": [],
   "source": [
    "out.params['x'].value / pixel_size"
   ]
  },
  {
   "cell_type": "code",
   "execution_count": null,
   "metadata": {
    "collapsed": false
   },
   "outputs": [],
   "source": [
    "detector_grid.shape"
   ]
  },
  {
   "cell_type": "markdown",
   "metadata": {
    "collapsed": true
   },
   "source": [
    "# Plot $\\chi^2$ surfaces"
   ]
  },
  {
   "cell_type": "markdown",
   "metadata": {},
   "source": [
    "### x (or y):"
   ]
  },
  {
   "cell_type": "code",
   "execution_count": 8,
   "metadata": {
    "collapsed": false
   },
   "outputs": [],
   "source": [
    "rgholo_varycenter = functools.partial(rg_sphere_holo2, position=detector_grid, k=illum_wavenumber, m=_index, a=_radius)"
   ]
  },
  {
   "cell_type": "code",
   "execution_count": 9,
   "metadata": {
    "collapsed": false
   },
   "outputs": [],
   "source": [
    "x_vals = np.linspace(0, pixel_size*grid_size, 10*int(grid_size))\n",
    "centers = math.cartesian(x_vals, 50*pixel_size, 5)\n",
    "chisq_x = [chisq(holo1, rgholo_varycenter(center=point)) for point in centers]"
   ]
  },
  {
   "cell_type": "code",
   "execution_count": 10,
   "metadata": {
    "collapsed": false
   },
   "outputs": [
    {
     "data": {
      "image/png": "[encoded data removed]",
      "text/plain": [
       "<matplotlib.figure.Figure at 0x228770c06d8>"
      ]
     },
     "metadata": {},
     "output_type": "display_data"
    }
   ],
   "source": [
    "plt.plot(x_vals/pixel_size, chisq_x)\n",
    "plt.show()"
   ]
  },
  {
   "cell_type": "markdown",
   "metadata": {},
   "source": [
    "### z:"
   ]
  },
  {
   "cell_type": "code",
   "execution_count": 11,
   "metadata": {
    "collapsed": true
   },
   "outputs": [],
   "source": [
    "z_vals = np.linspace(0, 10, 100)\n",
    "centers = math.cartesian(50*pixel_size, 50*pixel_size, z_vals)\n",
    "chisq_z = [chisq(holo1, rgholo_varycenter(center=point)) for point in centers]"
   ]
  },
  {
   "cell_type": "code",
   "execution_count": 12,
   "metadata": {
    "collapsed": false
   },
   "outputs": [
    {
     "data": {
      "image/png": "[encoded data removed]",
      "text/plain": [
       "<matplotlib.figure.Figure at 0x2287718ee10>"
      ]
     },
     "metadata": {},
     "output_type": "display_data"
    }
   ],
   "source": [
    "plt.plot(z_vals, chisq_z)\n",
    "plt.show()"
   ]
  },
  {
   "cell_type": "markdown",
   "metadata": {},
   "source": [
    "### Radius:"
   ]
  },
  {
   "cell_type": "code",
   "execution_count": 13,
   "metadata": {
    "collapsed": false
   },
   "outputs": [],
   "source": [
    "rgholo_varyradius = functools.partial(rg_sphere_holo2, position=detector_grid, k=illum_wavenumber, m=_index, center=_center)"
   ]
  },
  {
   "cell_type": "code",
   "execution_count": 14,
   "metadata": {
    "collapsed": false
   },
   "outputs": [],
   "source": [
    "r_vals = np.linspace(illum_wavelength*.1, illum_wavelength*10, 100)\n",
    "chisq_r = [chisq(holo1, rgholo_varyradius(a=radius)) for radius in r_vals]"
   ]
  },
  {
   "cell_type": "code",
   "execution_count": 15,
   "metadata": {
    "collapsed": false
   },
   "outputs": [
    {
     "data": {
      "image/png": "[encoded data removed]",
      "text/plain": [
       "<matplotlib.figure.Figure at 0x228772260f0>"
      ]
     },
     "metadata": {},
     "output_type": "display_data"
    }
   ],
   "source": [
    "plt.plot(r_vals, chisq_r)\n",
    "plt.show()"
   ]
  },
  {
   "cell_type": "markdown",
   "metadata": {},
   "source": [
    "### Real part of m:"
   ]
  },
  {
   "cell_type": "code",
   "execution_count": 16,
   "metadata": {
    "collapsed": true
   },
   "outputs": [],
   "source": [
    "rgholo_varyindex = functools.partial(rg_sphere_holo2, position=detector_grid, k=illum_wavenumber, center=_center, a=_radius)"
   ]
  },
  {
   "cell_type": "code",
   "execution_count": 17,
   "metadata": {
    "collapsed": true
   },
   "outputs": [],
   "source": [
    "m_vals = np.linspace(1, 2, 100)\n",
    "m_vals = math.cartesian(m_vals, 0)\n",
    "chisq_m = [chisq(holo1, rgholo_varyindex(m=index)) for index in m_vals]"
   ]
  },
  {
   "cell_type": "code",
   "execution_count": 18,
   "metadata": {
    "collapsed": false
   },
   "outputs": [
    {
     "data": {
      "image/png": "[encoded data removed]",
      "text/plain": [
       "<matplotlib.figure.Figure at 0x228772c4c18>"
      ]
     },
     "metadata": {},
     "output_type": "display_data"
    }
   ],
   "source": [
    "plt.semilogy(m_vals[:,0], chisq_m)\n",
    "plt.show()"
   ]
  },
  {
   "cell_type": "code",
   "execution_count": null,
   "metadata": {
    "collapsed": true
   },
   "outputs": [],
   "source": []
  }
 ],
 "metadata": {
  "kernelspec": {
   "display_name": "Python 3",
   "language": "python",
   "name": "python3"
  },
  "language_info": {
   "codemirror_mode": {
    "name": "ipython",
    "version": 3
   },
   "file_extension": ".py",
   "mimetype": "text/x-python",
   "name": "python",
   "nbconvert_exporter": "python",
   "pygments_lexer": "ipython3",
   "version": "3.6.1"
  }
 },
 "nbformat": 4,
 "nbformat_minor": 2
}
