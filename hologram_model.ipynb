{
 "cells": [
  {
   "cell_type": "code",
   "execution_count": 6,
   "metadata": {
    "collapsed": true
   },
   "outputs": [],
   "source": [
    "%matplotlib inline\n",
    "import numpy as np\n",
    "import matplotlib.pyplot as plt"
   ]
  },
  {
   "cell_type": "code",
   "execution_count": 7,
   "metadata": {
    "collapsed": true
   },
   "outputs": [],
   "source": [
    "def dist(*vec):\n",
    "    return np.sqrt(vec[0]**2 + vec[1]**2 + vec[2]**2)\n",
    "\n",
    "def cartesian(*dims):\n",
    "    return np.array(np.meshgrid(*dims, indexing='ij')).T.reshape(-1, len(dims))"
   ]
  },
  {
   "cell_type": "markdown",
   "metadata": {},
   "source": [
    "## Rayleigh scattering\n",
    "\n"
   ]
  },
  {
   "cell_type": "code",
   "execution_count": 8,
   "metadata": {
    "collapsed": false
   },
   "outputs": [],
   "source": [
    "def rayleigh_holo(position, center, k, e_r, radius):\n",
    "    r = (position-center).T\n",
    "    r = dist(r[0], r[1], r[2])\n",
    "    z = center[2]\n",
    "    c = (e_r-1) / (e_r+2) * k**2 * radius**3 / r\n",
    "    return 2*(1-(z/r)**2)*c*np.cos(k*r) + (1-(z/r)**2)*c**2 #+ 1"
   ]
  },
  {
   "cell_type": "markdown",
   "metadata": {},
   "source": [
    "## Rayleigh-Gans Approximation to Sphere\n",
    "\n",
    "Define model function for hologram.\n",
    "\n",
    "A tip to remember here is that you should avoid \"pythonic\" idioms involving iterables. While numpy ndarrays, lists, etc, are iterable over their elements, theano objects are not iterable by default because their class structure is not compatible with this notion. In otherwords, you cannot unpack a theano object. You would run into trouble when pymc3 passes they object to your model. This is why I have lines like `re_m, im_m = m[0], m[1]` instead of simply `re_m, im_m = m`... it's because when m is a theano variable that represents two component rather than actually being two components, the interpreter will not know the meaning of the latter.\n",
    "\n",
    "Also some numpy functions are not supported automatically by theano. (For example, I have to use numpy.arctan instead of numpy.arctan2)"
   ]
  },
  {
   "cell_type": "markdown",
   "metadata": {},
   "source": [
    "For any scattering process from a symmetric object, the scattered field can be expresed in term of the incident field as\n",
    "\n",
    "$\\begin{pmatrix}E_{\\parallel s} \\\\ E_{\\perp s} \\end{pmatrix} = \\frac{e^{i k (r-z)}}{i k r }\\begin{pmatrix} S_2 & 0\\\\0 & S_1\\end{pmatrix} \\begin{pmatrix}E_{\\parallel i} \\\\ E_{\\perp i} \\end{pmatrix}$\n",
    "\n",
    "For a sphere, the scattering coefficients are \n",
    "$\\begin{pmatrix}S_1 \\\\ S_2\\end{pmatrix} = i k^3 a^3 (m-1) \\frac{2}{3} G(u)\\begin{pmatrix}1 \\\\ \\cos\\theta\\end{pmatrix}$\n",
    "\n",
    "$G(u) = \\left( \\frac{9 \\pi}{2 u^3}\\right)^{1/2}J_{3/2}(u) = \\frac{3}{u^3}(\\sin u - u \\cos u)$ \n",
    "Also, here $u = 2 x \\sin \\frac{\\theta}{2}$ where $x = k a$ is the size parameter for incident wavevector k and sphere radius a\n",
    "\n",
    "Define the incident field as\n",
    "\n",
    "$$\\vec{E}_i = E_0 \\hat{x}$$\n",
    "\n",
    "So that we have :\n",
    "\n",
    "$$\\vec{E}_s =  E_0 \\frac{e^{i k (r-z)}}{i k r } S_2(\\theta) \\hat{x}$$\n",
    "\n",
    "The irradiance Stokes parameter is\n",
    "\n",
    "\\begin{align}\n",
    "    I &= \\left|\\vec{E}_{i} + \\vec{E}_{s}\\right|^2 \\\\\n",
    "    &= \\left(\\vec{E}_{i} + \\vec{E}_{s}\\right) \\left(\\vec{E}_{i} + \\vec{E}_{s}\\right)^*\\\\\n",
    "    &= \\left|\\vec{E}_{i}\\right|^2 + \\left|\\vec{E}_{s}\\right|^2 + \\vec{E}_{i} \\cdot \\vec{E}_{s}^* + \\vec{E}_{s} \n",
    "        \\cdot \\vec{E}_{i}^*\\\\\n",
    "    &= \\left|\\vec{E}_{i}\\right|^2 + \\left|\\vec{E}_{s}\\right|^2 + 2 \\,\\mathrm{Re}\\left(\\vec{E}_{i} \\cdot \\vec{E}_{s}^*\\right)\n",
    "\\end{align}\n",
    "\n",
    "Where we have:\n",
    "\n",
    "$\\left|\\vec{E}_{i}\\right|^2 = E_0^2$\n",
    "\n",
    "and \n",
    "\n",
    "$\\left|\\vec{E}_{s}\\right|^2 = \\frac{E_0^2}{k^2 r^2}\\left|S_2(\\theta)\\right|^2$\n",
    "\n",
    "Calculating the cross term:\n",
    "\n",
    "\\begin{align}\n",
    "    2 \\,\\mathrm{Re} \\left( \\vec{E}_{i} \\cdot \\vec{E}_{s}^*\\right) &= 2 \\frac{E_0^2}{kr} \\,\\mathrm{Re} \\left( i e^{-i k (r-z)} S_2^* \\right)\\\\\n",
    "    &= - 2 \\frac{E_0^2}{kr} \\,\\mathrm{Im} \\left( e^{-i k (r-z)} \\left|S_2\\right| e^{-i \\delta}\\right)\\\\\n",
    "    &= 2 \\frac{E_0^2}{kr} \\left|S_2\\right| \\sin\\left(k(r-z) + \\delta\\right)\n",
    "\\end{align}\n",
    "\n",
    "The hologram produced is normalized:\n",
    "\n",
    "$H = \\frac{I}{\\left|\\vec{E}_i\\right|^2}$\n",
    "\n",
    "so that we get\n",
    "\n",
    "$H = 1 + \\frac{1}{k^2 r^2}\\left|S_2(\\theta)\\right|^2 + 2 \\frac{\\left|S_2(\\theta)\\right|}{kr}  \\sin\\left( k(r-z) + \\delta\\right)$"
   ]
  },
  {
   "cell_type": "code",
   "execution_count": 9,
   "metadata": {
    "collapsed": false
   },
   "outputs": [],
   "source": [
    "def rayleigh_gans_sphere_holo(position, k, center, m, a):\n",
    "    r = (position - center).T\n",
    "    r = dist(r[0], r[1], r[2])\n",
    "\n",
    "    z = center[2]\n",
    "    theta = np.arccos(z / r)\n",
    "\n",
    "    V = 4 / 3 * np.pi * a ** 3\n",
    "\n",
    "    x = k * a\n",
    "    u = 2 * x * np.sin(.5 * theta)\n",
    "    G = 3 / u ** 3 * (np.sin(u) - u * np.cos(u))\n",
    "\n",
    "    re_m, im_m = m[0], m[1]\n",
    "\n",
    "    s2_mag = k ** 3 * a ** 3 * np.sqrt(re_m * re_m + im_m * im_m - 2 * re_m + 1) * 2 / 3 * np.abs(np.cos(theta)) * g\n",
    "    s2_phase = np.arctan((1 - re_m) / im_m) if im_m != 0 else np.pi / 2\n",
    "\n",
    "    holo_scatt = (1 / (k * r) * s2_mag) ** 2\n",
    "    holo_inter = 2 * 1/(k*r) * np.sqrt(s2_mag**2) * np.sin(k*(r-z) + s2_phase)\n",
    "\n",
    "    holo_full = holo_scatt + holo_inter + 1\n",
    "\n",
    "    return holo_full"
   ]
  },
  {
   "cell_type": "markdown",
   "metadata": {},
   "source": [
    "Test holograms:"
   ]
  },
  {
   "cell_type": "code",
   "execution_count": 10,
   "metadata": {
    "collapsed": false
   },
   "outputs": [
    {
     "ename": "NameError",
     "evalue": "name 'g' is not defined",
     "output_type": "error",
     "traceback": [
      "\u001b[0;31m---------------------------------------------------------------------------\u001b[0m",
      "\u001b[0;31mNameError\u001b[0m                                 Traceback (most recent call last)",
      "\u001b[0;32m<ipython-input-10-c424d5267d29>\u001b[0m in \u001b[0;36m<module>\u001b[0;34m()\u001b[0m\n\u001b[1;32m     12\u001b[0m \u001b[0msc_radius\u001b[0m \u001b[1;33m=\u001b[0m \u001b[1;36m.5\u001b[0m\u001b[1;33m\u001b[0m\u001b[0m\n\u001b[1;32m     13\u001b[0m \u001b[1;33m\u001b[0m\u001b[0m\n\u001b[0;32m---> 14\u001b[0;31m \u001b[0mdata\u001b[0m \u001b[1;33m=\u001b[0m \u001b[0mrayleigh_gans_sphere_holo\u001b[0m\u001b[1;33m(\u001b[0m\u001b[0mgrid\u001b[0m\u001b[1;33m,\u001b[0m \u001b[0millum_wavenumber\u001b[0m\u001b[1;33m,\u001b[0m \u001b[0msc_center\u001b[0m\u001b[1;33m,\u001b[0m \u001b[0msc_index\u001b[0m\u001b[1;33m,\u001b[0m \u001b[0msc_radius\u001b[0m\u001b[1;33m)\u001b[0m\u001b[1;33m\u001b[0m\u001b[0m\n\u001b[0m\u001b[1;32m     15\u001b[0m \u001b[1;31m#data = m.add_noise(data, sc=.1)\u001b[0m\u001b[1;33m\u001b[0m\u001b[1;33m\u001b[0m\u001b[0m\n\u001b[1;32m     16\u001b[0m \u001b[0mplt\u001b[0m\u001b[1;33m.\u001b[0m\u001b[0mgray\u001b[0m\u001b[1;33m(\u001b[0m\u001b[1;33m)\u001b[0m\u001b[1;33m\u001b[0m\u001b[0m\n",
      "\u001b[0;32m<ipython-input-9-9ea39a76f3fb>\u001b[0m in \u001b[0;36mrayleigh_gans_sphere_holo\u001b[0;34m(position, k, center, m, a)\u001b[0m\n\u001b[1;32m     14\u001b[0m     \u001b[0mre_m\u001b[0m\u001b[1;33m,\u001b[0m \u001b[0mim_m\u001b[0m \u001b[1;33m=\u001b[0m \u001b[0mm\u001b[0m\u001b[1;33m[\u001b[0m\u001b[1;36m0\u001b[0m\u001b[1;33m]\u001b[0m\u001b[1;33m,\u001b[0m \u001b[0mm\u001b[0m\u001b[1;33m[\u001b[0m\u001b[1;36m1\u001b[0m\u001b[1;33m]\u001b[0m\u001b[1;33m\u001b[0m\u001b[0m\n\u001b[1;32m     15\u001b[0m \u001b[1;33m\u001b[0m\u001b[0m\n\u001b[0;32m---> 16\u001b[0;31m     \u001b[0ms2_mag\u001b[0m \u001b[1;33m=\u001b[0m \u001b[0mk\u001b[0m \u001b[1;33m**\u001b[0m \u001b[1;36m3\u001b[0m \u001b[1;33m*\u001b[0m \u001b[0ma\u001b[0m \u001b[1;33m**\u001b[0m \u001b[1;36m3\u001b[0m \u001b[1;33m*\u001b[0m \u001b[0mnp\u001b[0m\u001b[1;33m.\u001b[0m\u001b[0msqrt\u001b[0m\u001b[1;33m(\u001b[0m\u001b[0mre_m\u001b[0m \u001b[1;33m*\u001b[0m \u001b[0mre_m\u001b[0m \u001b[1;33m+\u001b[0m \u001b[0mim_m\u001b[0m \u001b[1;33m*\u001b[0m \u001b[0mim_m\u001b[0m \u001b[1;33m-\u001b[0m \u001b[1;36m2\u001b[0m \u001b[1;33m*\u001b[0m \u001b[0mre_m\u001b[0m \u001b[1;33m+\u001b[0m \u001b[1;36m1\u001b[0m\u001b[1;33m)\u001b[0m \u001b[1;33m*\u001b[0m \u001b[1;36m2\u001b[0m \u001b[1;33m/\u001b[0m \u001b[1;36m3\u001b[0m \u001b[1;33m*\u001b[0m \u001b[0mnp\u001b[0m\u001b[1;33m.\u001b[0m\u001b[0mabs\u001b[0m\u001b[1;33m(\u001b[0m\u001b[0mnp\u001b[0m\u001b[1;33m.\u001b[0m\u001b[0mcos\u001b[0m\u001b[1;33m(\u001b[0m\u001b[0mtheta\u001b[0m\u001b[1;33m)\u001b[0m\u001b[1;33m)\u001b[0m \u001b[1;33m*\u001b[0m \u001b[0mg\u001b[0m\u001b[1;33m\u001b[0m\u001b[0m\n\u001b[0m\u001b[1;32m     17\u001b[0m     \u001b[0ms2_phase\u001b[0m \u001b[1;33m=\u001b[0m \u001b[0mnp\u001b[0m\u001b[1;33m.\u001b[0m\u001b[0marctan\u001b[0m\u001b[1;33m(\u001b[0m\u001b[1;33m(\u001b[0m\u001b[1;36m1\u001b[0m \u001b[1;33m-\u001b[0m \u001b[0mre_m\u001b[0m\u001b[1;33m)\u001b[0m \u001b[1;33m/\u001b[0m \u001b[0mim_m\u001b[0m\u001b[1;33m)\u001b[0m \u001b[1;32mif\u001b[0m \u001b[0mim_m\u001b[0m \u001b[1;33m!=\u001b[0m \u001b[1;36m0\u001b[0m \u001b[1;32melse\u001b[0m \u001b[0mnp\u001b[0m\u001b[1;33m.\u001b[0m\u001b[0mpi\u001b[0m \u001b[1;33m/\u001b[0m \u001b[1;36m2\u001b[0m\u001b[1;33m\u001b[0m\u001b[0m\n\u001b[1;32m     18\u001b[0m \u001b[1;33m\u001b[0m\u001b[0m\n",
      "\u001b[0;31mNameError\u001b[0m: name 'g' is not defined"
     ]
    }
   ],
   "source": [
    "pixel_size = 0.0858\n",
    "grid_size = 500\n",
    "x = y = np.linspace(0, pixel_size*grid_size, grid_size)\n",
    "z = 0\n",
    "\n",
    "grid = cartesian(x, y, z)\n",
    "\n",
    "illum_wavelength = .660\n",
    "illum_wavenumber = 2*np.pi/illum_wavelength\n",
    "sc_center = np.array([350*pixel_size, 200*pixel_size, 5])\n",
    "sc_index = np.array([1.4734/1.33, 0])\n",
    "sc_radius = .5\n",
    "\n",
    "data = rayleigh_gans_sphere_holo(grid, illum_wavenumber, sc_center, sc_index, sc_radius)\n",
    "#data = m.add_noise(data, sc=.1)\n",
    "plt.gray()\n",
    "plt.imshow(data.reshape((grid_size,grid_size)))\n",
    "plt.show()"
   ]
  },
  {
   "cell_type": "code",
   "execution_count": null,
   "metadata": {
    "collapsed": true
   },
   "outputs": [],
   "source": []
  }
 ],
 "metadata": {
  "anaconda-cloud": {},
  "kernelspec": {
   "display_name": "Python 3",
   "language": "python",
   "name": "python3"
  },
  "language_info": {
   "codemirror_mode": {
    "name": "ipython",
    "version": 3
   },
   "file_extension": ".py",
   "mimetype": "text/x-python",
   "name": "python",
   "nbconvert_exporter": "python",
   "pygments_lexer": "ipython3",
   "version": "3.6.1"
  }
 },
 "nbformat": 4,
 "nbformat_minor": 0
}
