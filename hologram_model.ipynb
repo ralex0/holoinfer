{
 "cells": [
  {
   "cell_type": "code",
   "execution_count": 6,
   "metadata": {
    "collapsed": true
   },
   "outputs": [],
   "source": [
    "%matplotlib inline\n",
    "import numpy as np\n",
    "import matplotlib.pyplot as plt"
   ]
  },
  {
   "cell_type": "code",
   "execution_count": 7,
   "metadata": {
    "collapsed": true
   },
   "outputs": [],
   "source": [
    "def dist(*vec):\n",
    "    return np.sqrt(vec[0]**2 + vec[1]**2 + vec[2]**2)\n",
    "\n",
    "def cartesian(*dims):\n",
    "    return np.array(np.meshgrid(*dims, indexing='ij')).T.reshape(-1, len(dims))"
   ]
  },
  {
   "cell_type": "markdown",
   "metadata": {},
   "source": [
    "## Rayleigh scattering\n",
    "\n"
   ]
  },
  {
   "cell_type": "code",
   "execution_count": 8,
   "metadata": {
    "collapsed": false
   },
   "outputs": [],
   "source": [
    "def rayleigh_holo(position, center, k, e_r, radius):\n",
    "    r = (position-center).T\n",
    "    r = dist(r[0], r[1], r[2])\n",
    "    z = center[2]\n",
    "    c = (e_r-1) / (e_r+2) * k**2 * radius**3 / r\n",
    "    return 2*(1-(z/r)**2)*c*np.cos(k*r) + (1-(z/r)**2)*c**2 #+ 1"
   ]
  },
  {
   "cell_type": "markdown",
   "metadata": {},
   "source": [
    "## Rayleigh-Gans Approximation to Sphere\n",
    "\n",
    "Define model function for hologram.\n",
    "\n",
    "A tip to remember here is that you should avoid \"pythonic\" idioms involving iterables. While numpy ndarrays, lists, etc, are iterable over their elements, theano objects are not iterable by default because their class structure is not compatible with this notion. In otherwords, you cannot unpack a theano object. You would run into trouble when pymc3 passes they object to your model. This is why I have lines like `re_m, im_m = m[0], m[1]` instead of simply `re_m, im_m = m`... it's because when m is a theano variable that represents two component rather than actually being two components, the interpreter will not know the meaning of the latter.\n",
    "\n",
    "Also some numpy functions are not supported automatically by theano. (For example, I have to use numpy.arctan instead of numpy.arctan2)"
   ]
  },
  {
   "cell_type": "markdown",
   "metadata": {},
   "source": [
    "For any scattering process from a symmetric object, the scattered field can be expresed in term of the incident field as\n",
    "\n",
    "$\\begin{pmatrix}E_{\\parallel s} \\\\ E_{\\perp s} \\end{pmatrix} = \\frac{e^{i k (r-z)}}{i k r }\\begin{pmatrix} S_2 & 0\\\\0 & S_1\\end{pmatrix} \\begin{pmatrix}E_{\\parallel i} \\\\ E_{\\perp i} \\end{pmatrix}$\n",
    "\n",
    "For a sphere, the scattering coefficients are \n",
    "$\\begin{pmatrix}S_1 \\\\ S_2\\end{pmatrix} = i k^3 a^3 (m-1) \\frac{2}{3} G(u)\\begin{pmatrix}1 \\\\ \\cos\\theta\\end{pmatrix}$\n",
    "\n",
    "$G(u) = \\left( \\frac{9 \\pi}{2 u^3}\\right)^{1/2}J_{3/2}(u) = \\frac{3}{u^3}(\\sin u - u \\cos u)$ \n",
    "Also, here $u = 2 x \\sin \\frac{\\theta}{2}$ where $x = k a$ is the size parameter for incident wavevector k and sphere radius a\n",
    "\n",
    "Define the incident field as\n",
    "\n",
    "$$\\vec{E}_i = E_0 \\hat{x}$$\n",
    "\n",
    "So that we have :\n",
    "\n",
    "$$\\vec{E}_s =  E_0 \\frac{e^{i k (r-z)}}{i k r } S_2(\\theta) \\hat{x}$$\n",
    "\n",
    "The irradiance Stokes parameter is\n",
    "\n",
    "\\begin{align}\n",
    "    I &= \\left|\\vec{E}_{i} + \\vec{E}_{s}\\right|^2 \\\\\n",
    "    &= \\left(\\vec{E}_{i} + \\vec{E}_{s}\\right) \\left(\\vec{E}_{i} + \\vec{E}_{s}\\right)^*\\\\\n",
    "    &= \\left|\\vec{E}_{i}\\right|^2 + \\left|\\vec{E}_{s}\\right|^2 + \\vec{E}_{i} \\cdot \\vec{E}_{s}^* + \\vec{E}_{s} \n",
    "        \\cdot \\vec{E}_{i}^*\\\\\n",
    "    &= \\left|\\vec{E}_{i}\\right|^2 + \\left|\\vec{E}_{s}\\right|^2 + 2 \\,\\mathrm{Re}\\left(\\vec{E}_{i} \\cdot \\vec{E}_{s}^*\\right)\n",
    "\\end{align}\n",
    "\n",
    "Where we have:\n",
    "\n",
    "$\\left|\\vec{E}_{i}\\right|^2 = E_0^2$\n",
    "\n",
    "and \n",
    "\n",
    "$\\left|\\vec{E}_{s}\\right|^2 = \\frac{E_0^2}{k^2 r^2}\\left|S_2(\\theta)\\right|^2$\n",
    "\n",
    "Calculating the cross term:\n",
    "\n",
    "\\begin{align}\n",
    "    2 \\,\\mathrm{Re} \\left( \\vec{E}_{i} \\cdot \\vec{E}_{s}^*\\right) &= 2 \\frac{E_0^2}{kr} \\,\\mathrm{Re} \\left( i e^{-i k (r-z)} S_2^* \\right)\\\\\n",
    "    &= - 2 \\frac{E_0^2}{kr} \\,\\mathrm{Im} \\left( e^{-i k (r-z)} \\left|S_2\\right| e^{-i \\delta}\\right)\\\\\n",
    "    &= 2 \\frac{E_0^2}{kr} \\left|S_2\\right| \\sin\\left(k(r-z) + \\delta\\right)\n",
    "\\end{align}\n",
    "\n",
    "The hologram produced is normalized:\n",
    "\n",
    "$H = \\frac{I}{\\left|\\vec{E}_i\\right|^2}$\n",
    "\n",
    "so that we get\n",
    "\n",
    "$H = 1 + \\frac{1}{k^2 r^2}\\left|S_2(\\theta)\\right|^2 + 2 \\frac{\\left|S_2(\\theta)\\right|}{kr}  \\sin\\left( k(r-z) + \\delta\\right)$"
   ]
  },
  {
   "cell_type": "code",
   "execution_count": 11,
   "metadata": {
    "collapsed": false
   },
   "outputs": [],
   "source": [
    "def rayleigh_gans_sphere_holo(position, k, center, m, a):\n",
    "    r = (position - center).T\n",
    "    r = dist(r[0], r[1], r[2])\n",
    "\n",
    "    z = center[2]\n",
    "    theta = np.arccos(z / r)\n",
    "\n",
    "    x = k * a\n",
    "    u = 2 * x * np.sin(.5 * theta)\n",
    "    g = 3 / u ** 3 * (np.sin(u) - u * np.cos(u))\n",
    "\n",
    "    re_m, im_m = m[0], m[1]\n",
    "\n",
    "    s2_mag = k ** 3 * a ** 3 * np.sqrt(re_m * re_m + im_m * im_m - 2 * re_m + 1) * 2 / 3 * np.abs(np.cos(theta)) * g\n",
    "    s2_phase = np.arctan((1 - re_m) / im_m) if im_m != 0 else np.pi / 2\n",
    "\n",
    "    holo_scatt = (1 / (k * r) * s2_mag) ** 2\n",
    "    holo_inter = 2 * 1/(k*r) * np.sqrt(s2_mag**2) * np.sin(k*(r-z) + s2_phase)\n",
    "\n",
    "    holo_full = holo_scatt + holo_inter + 1\n",
    "\n",
    "    return holo_full"
   ]
  },
  {
   "cell_type": "markdown",
   "metadata": {},
   "source": [
    "Test holograms:"
   ]
  },
  {
   "cell_type": "code",
   "execution_count": 12,
   "metadata": {
    "collapsed": false
   },
   "outputs": [
    {
     "data": {
      "image/png": "[encoded data removed]",
      "text/plain": [
       "<matplotlib.figure.Figure at 0x2036eaa36d8>"
      ]
     },
     "metadata": {},
     "output_type": "display_data"
    }
   ],
   "source": [
    "pixel_size = 0.0858\n",
    "grid_size = 500\n",
    "x = y = np.linspace(0, pixel_size*grid_size, grid_size)\n",
    "z = 0\n",
    "\n",
    "grid = cartesian(x, y, z)\n",
    "\n",
    "illum_wavelength = .660\n",
    "illum_wavenumber = 2*np.pi/illum_wavelength\n",
    "sc_center = np.array([350*pixel_size, 200*pixel_size, 5])\n",
    "sc_index = np.array([1.4734/1.33, 0])\n",
    "sc_radius = .5\n",
    "\n",
    "data = rayleigh_gans_sphere_holo(grid, illum_wavenumber, sc_center, sc_index, sc_radius)\n",
    "#data = m.add_noise(data, sc=.1)\n",
    "plt.gray()\n",
    "plt.imshow(data.reshape((grid_size,grid_size)))\n",
    "plt.show()"
   ]
  },
  {
   "cell_type": "code",
   "execution_count": null,
   "metadata": {
    "collapsed": true
   },
   "outputs": [],
   "source": []
  }
 ],
 "metadata": {
  "anaconda-cloud": {},
  "kernelspec": {
   "display_name": "Python 3",
   "language": "python",
   "name": "python3"
  },
  "language_info": {
   "codemirror_mode": {
    "name": "ipython",
    "version": 3
   },
   "file_extension": ".py",
   "mimetype": "text/x-python",
   "name": "python",
   "nbconvert_exporter": "python",
   "pygments_lexer": "ipython3",
   "version": "3.6.1"
  }
 },
 "nbformat": 4,
 "nbformat_minor": 0
}
