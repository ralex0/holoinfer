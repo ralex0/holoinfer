{
 "cells": [
  {
   "cell_type": "code",
   "execution_count": 1,
   "metadata": {
    "collapsed": true
   },
   "outputs": [],
   "source": [
    "%matplotlib inline\n",
    "import numpy as np\n",
    "import matplotlib.pyplot as plt\n",
    "import time"
   ]
  },
  {
   "cell_type": "code",
   "execution_count": 2,
   "metadata": {
    "collapsed": true
   },
   "outputs": [],
   "source": [
    "def dist(*vec):\n",
    "    return np.sqrt(vec[0]**2 + vec[1]**2 + vec[2]**2)\n",
    "\n",
    "def cartesian(*dims):\n",
    "    return np.array(np.meshgrid(*dims, indexing='ij')).T.reshape(-1, len(dims))"
   ]
  },
  {
   "cell_type": "markdown",
   "metadata": {},
   "source": [
    "## Point Scatterer\n",
    "\n",
    "Let the incident field be:\n",
    "\n",
    "$\\vec{E}_{inc} = E_0 \\,\\hat{x}$ \n",
    "The scattered field has the form:\n",
    "\n",
    "$\\begin{pmatrix}E_{\\parallel s} \\\\ E_{\\perp s} \\end{pmatrix} = \\frac{e^{i k (r-z)}}{- i k r }\\begin{pmatrix} S_2 & S_3\\\\S_4 & S_1\\end{pmatrix} \\begin{pmatrix}E_{\\parallel inc} \\\\ E_{\\perp inc} \\end{pmatrix}$\n",
    "\n",
    " "
   ]
  },
  {
   "cell_type": "markdown",
   "metadata": {
    "collapsed": true
   },
   "source": [
    "The reference wave propagates in the negative $z$ direction:\n",
    "\n",
    "\\begin{align}\n",
    "    \\vec{E}_{ref}(x) &= E_{ref} \\,e^{i k z} \\,(-\\hat{z})\\\\\n",
    "    &= E_{ref} \\,e^{-i k z} \\,\\hat{z}\n",
    "\\end{align}\n",
    "\n",
    "At the hologram, $z = 0$, so we have $\\vec{E}_{ref}(z) = E_{ref} \\,\\hat{z}$, a simple DC shift (that will be subtracted off.)\n",
    "\n",
    "The scattered wave electric field is given by \n",
    "\n",
    "$$\\vec{E}_{sc}(x, y, z) = E_{sc} \\,\\frac{e^{i k r}}{r} \\,\\hat{r},$$\n",
    "\n",
    "where $\\vec{r}$ is the displacement vector from the scatterer. For any scatterer, $z \\equiv \\vec{r} \\cdot \\hat{z}$ is fixed for every point in the hologram, while $x$ and $y$ vary by point. It is important to distinguish this $z$ from the $z = 0$ that is the location of the points on the hologram.\n",
    "\n",
    "Note that with this definition, the real amplitudes $E_{ref}$ and $E_{sc}$ do not have the same dimensions!\n",
    "\n",
    "Now the interference pattern at the screen is given by\n",
    "\n",
    "\\begin{align}\n",
    "    I(x , y, z=0) = \\left|\\vec{E}_{ref} + \\vec{E}_{sc}\\right|^2\n",
    "    &= \\left(\\vec{E}_{ref} + \\vec{E}_{sc}\\right) \\left(\\vec{E}_{ref} + \\vec{E}_{sc}\\right)^*\\\\\n",
    "    &= \\left|\\vec{E}_{ref}\\right|^2 + \\left|\\vec{E}_{sc}\\right|^2 + \\vec{E}_{ref} \\cdot \\vec{E}_{sc}^* + \\vec{E}_{sc} \\cdot \\vec{E}_{ref}^*\\\\\n",
    "    & = E_{ref}^2 + \\frac{E_{sc}^2}{r^2} + \\frac{E_{ref}E_{sc}}{r}\\,e^{i k r}\\,(\\hat{r}\\cdot\\hat{z}) + \\frac{E_{ref}E_{sc}}{r}\\,e^{-i k r}\\,(\\hat{r}\\cdot\\hat{z})\\\\\n",
    "    H(x, y) = \\\\\n",
    "    H(x, y) = \\frac{I(x , y, z=0) - E_{ref}^2}{E_{sc}^2} &= \\frac{1}{r^2} + \\frac{E_{ref}}{E_{sc}}\\frac{z}{r^2}(2 \\cos{k r})\\\\\n",
    "    &= \\frac{1}{r^2}\\left(1 + 2\\, z\\, \\frac{E_{ref}}{E_{sc}} \\,\\cos{k r}\\right)\n",
    "\\end{align}\n",
    "\n",
    "where we have used\n",
    "\n",
    "\\begin{align}\n",
    "    \\vec{r} &= x \\hat{x} + y \\hat{y} + z \\hat{z}\\\\\n",
    "    \\hat{r} &\\equiv \\frac{\\vec{r}}{r}\\\\\n",
    "    \\implies\\hat{r} \\cdot \\hat{z}  &= \\frac{z}{r}.\n",
    "\\end{align}\n",
    "\n",
    "The second term in the brackets is indeed dimensionless since $E_{sc}$ has an extra factor of length.\n"
   ]
  },
  {
   "cell_type": "code",
   "execution_count": 4,
   "metadata": {
    "collapsed": false
   },
   "outputs": [],
   "source": [
    "def point_holo(position, center, k, n):\n",
    "    #n is amp_incident/amp_scat\n",
    "    #r = dist(*(position-center).T) # Theano objects cannot be automatically iterated over with the * operator\n",
    "    temp = (position-center).T\n",
    "    r  = dist(temp[0], temp[1], temp[2])\n",
    "    z = center[2]\n",
    "    return 1/r**2 * (1 + 2*z*n*np.cos(k*r))"
   ]
  },
  {
   "cell_type": "markdown",
   "metadata": {},
   "source": [
    "## Rayleigh scattering\n",
    "\n"
   ]
  },
  {
   "cell_type": "code",
   "execution_count": 5,
   "metadata": {
    "collapsed": false
   },
   "outputs": [],
   "source": [
    "def rayleigh_holo(position, center, k, e_r, radius):\n",
    "    r = (position-center).T\n",
    "    r = dist(r[0], r[1], r[2])\n",
    "    z = center[2]\n",
    "    c = (e_r-1) / (e_r+2) * k**2 * radius**3 / r\n",
    "    return 2*(1-(z/r)**2)*c*np.cos(k*r) + (1-(z/r)**2)*c**2 #+ 1"
   ]
  },
  {
   "cell_type": "markdown",
   "metadata": {},
   "source": [
    "## Rayleigh-Gans Approximation to Sphere\n",
    "\n",
    "$\\begin{pmatrix}E_{\\parallel s} \\\\ E_{\\perp s} \\end{pmatrix} = \\frac{e^{i k (r-z)}}{- i k r }\\begin{pmatrix} S_2 & 0\\\\0 & S_1\\end{pmatrix} \\begin{pmatrix}E_{\\parallel i} \\\\ E_{\\perp i} \\end{pmatrix}$\n",
    "\n",
    "For a sphere, the scattering coefficients are \n",
    "$\\begin{pmatrix}S_1 \\\\ S_2\\end{pmatrix} = i k^3 a^3 (m-1) \\frac{2}{3} G(u)\\begin{pmatrix}1 \\\\ \\cos\\theta\\end{pmatrix}$\n",
    "\n",
    "$G(u) = \\left( \\frac{9 \\pi}{2 u^3}\\right)^{1/2}J_{3/2}(u) = \\frac{3}{u^3}(\\sin u - u \\cos u)$ \n",
    "Also, here $u = 2 x \\sin \\frac{\\theta}{2}$ where $x = k a$ is the size parameter for incident wavevector k and sphere radius a\n",
    "\n",
    "Define choose the incident field as\n",
    "\n",
    "$E_{\\parallel i} = E_0$\n",
    "\n",
    "$E_{\\perp i} = 0$\n",
    "\n",
    "So that we have :\n",
    "\n",
    "$E_{\\parallel s} = \\frac{e^{i k (r-z)}}{- i k r }S_2 E_{\\parallel i}$\n",
    "\n",
    "$E_{\\perp s} = 0$\n",
    "\n",
    "More simply,\n",
    "\n",
    "$$\\vec{E}_i = E_0 \\hat{z}$$\n",
    "\n",
    "$$\\vec{E}_s =  E_0 \\frac{e^{i k (r-z)}}{- i k r } S_2(\\theta) \\hat{z}$$\n",
    "\n",
    "\n",
    "\\begin{align}\n",
    "    I &= \\left|\\vec{E}_{i} + \\vec{E}_{s}\\right|^2 \\\\\n",
    "    &= \\left(\\vec{E}_{i} + \\vec{E}_{s}\\right) \\left(\\vec{E}_{i} + \\vec{E}_{s}\\right)^*\\\\\n",
    "    &= \\left|\\vec{E}_{i}\\right|^2 + \\left|\\vec{E}_{s}\\right|^2 + \\vec{E}_{i} \\cdot \\vec{E}_{s}^* + \\vec{E}_{s} \n",
    "        \\cdot \\vec{E}_{i}^*\\\\\n",
    "    &= \\left|\\vec{E}_{i}\\right|^2 + \\left|\\vec{E}_{s}\\right|^2 + 2 \\,\\mathrm{Re}\\left(\\vec{E}_{i} \\cdot \\vec{E}_{s}^*\\right)\n",
    "\\end{align}\n",
    "\n",
    "$\\left|\\vec{E}_{i}\\right|^2 = E_0^2$\n",
    "\n",
    "$\\left|\\vec{E}_{s}\\right|^2 = \\frac{E_0^2}{k^2 r^2}\\left|S_2(\\theta)\\right|^2$\n",
    "\n",
    "\\begin{align}\n",
    "    2 \\,\\mathrm{Re} \\left( \\vec{E}_{i} \\cdot \\vec{E}_{s}^*\\right) &= 2 \\frac{E_0^2}{kr} \\,\\mathrm{Re} \\left( -i e^{i k (r-z)} S_2^* \\right)\\\\\n",
    "    &= 2 \\frac{E_0^2}{kr} \\,\\mathrm{Re} \\left( e^{-i \\frac{\\pi}{2}} e^{i k (r-z)} \\left|S_2\\right| e^{-i \\delta}\\right)\\\\\n",
    "   &= 2 \\frac{E_0^2}{kr} \\,\\mathrm{Re} \\left( \\exp(i )\\right)\n",
    "\\end{align}"
   ]
  },
  {
   "cell_type": "code",
   "execution_count": 13,
   "metadata": {
    "collapsed": false
   },
   "outputs": [],
   "source": [
    "def rayleigh_gans_sphere_holo(position, k, center, m, a):\n",
    "    r = (position-center).T\n",
    "    r = dist(r[0], r[1], r[2])\n",
    "    \n",
    "    z = center[2]\n",
    "    theta = np.arccos(z/r)\n",
    "    \n",
    "    V = 4/3*np.pi*a**3\n",
    "    \n",
    "    x = k*a\n",
    "    u = 2*x*np.sin(.5*theta)\n",
    "    G = 3 / u**3 * (np.sin(u) - u * np.cos(u))\n",
    "    \n",
    "    re_m, im_m = m[0], m[1]\n",
    "    \n",
    "    S2_mag = k**3 * a**3 * np.sqrt(re_m*re_m + im_m*im_m - 2*re_m + 1) * 2/3 * np.cos(theta) * G\n",
    "    #S2_phase = np.arctan2(re_m - 1, im_m)\n",
    "    S2_phase = np.arctan((re_m - 1)/im_m)\n",
    "    \n",
    "    holo_scatt = (1/(k*r)*S2_mag)**2\n",
    "    holo_inter = 2 * 1/(k*r) * S2_mag * np.sin(k*(r-z) + S2_phase)\n",
    "    \n",
    "    # Techinically, the full pattern would have a term that would go as the intensity of the incident wave\n",
    "    # but here I am subtracting it off this uninteresting DC term (for precision).\n",
    "    holo_full = holo_scatt + holo_inter  #+ 1 \n",
    "    \n",
    "    return holo_full"
   ]
  },
  {
   "cell_type": "markdown",
   "metadata": {},
   "source": [
    "Test holograms:"
   ]
  },
  {
   "cell_type": "code",
   "execution_count": 10,
   "metadata": {
    "collapsed": false
   },
   "outputs": [],
   "source": [
    "resolution = 256\n",
    "x = y = np.linspace(0, 10, resolution)\n",
    "z = 0\n",
    "\n",
    "grid = cartesian(x, y, z)\n",
    "\n",
    "wavelength = 1.0\n",
    "wavevector = 2*np.pi/wavelength\n",
    "radius = wavelength*1\n",
    "center = np.array([5, 5, 2])\n",
    "index = np.array([1.10, 0])"
   ]
  },
  {
   "cell_type": "code",
   "execution_count": 11,
   "metadata": {
    "collapsed": false
   },
   "outputs": [
    {
     "name": "stdout",
     "output_type": "stream",
     "text": [
      "holo finished in 0.01562\n"
     ]
    },
    {
     "data": {
      "image/png": "[encoded data removed]",
      "text/plain": [
       "<matplotlib.figure.Figure at 0x266af9a83c8>"
      ]
     },
     "metadata": {},
     "output_type": "display_data"
    }
   ],
   "source": [
    "t0 = time.time()\n",
    "#testholo = np.array([point_holo(point, center, wavevector, *amps) for point in grid]).reshape((resolution,resolution))\n",
    "#testholo = point_holo(grid, center, wavevector, perm).reshape(resolution, resolution)\n",
    "test_holo = rayleigh_gans_sphere_holo(grid, center, wavevector, index, radius).reshape(resolution, resolution)\n",
    "print(\"holo finished in {:.4}\".format(time.time()-t0))\n",
    "\n",
    "#t1 = time.time()\n",
    "#testholo2 = point_holo2(xx, yy, center, wavevector, *amps)\n",
    "#print(\"point_holo2 finished in {:.3}\".format(time.time()-t1))\n",
    "\n",
    "#np.testing.assert_allclose(testholo, testholo2)\n",
    "plt.gray()\n",
    "#plt.subplot(1, 2, 1)\n",
    "plt.imshow(test_holo)\n",
    "#plt.subplot(1, 2, 2)\n",
    "#plt.imshow(testholo2)\n",
    "plt.show()"
   ]
  },
  {
   "cell_type": "code",
   "execution_count": null,
   "metadata": {
    "collapsed": true
   },
   "outputs": [],
   "source": []
  },
  {
   "cell_type": "code",
   "execution_count": null,
   "metadata": {
    "collapsed": true
   },
   "outputs": [],
   "source": []
  }
 ],
 "metadata": {
  "anaconda-cloud": {},
  "kernelspec": {
   "display_name": "Python [Root]",
   "language": "python",
   "name": "Python [Root]"
  },
  "language_info": {
   "codemirror_mode": {
    "name": "ipython",
    "version": 3
   },
   "file_extension": ".py",
   "mimetype": "text/x-python",
   "name": "python",
   "nbconvert_exporter": "python",
   "pygments_lexer": "ipython3",
   "version": "3.5.2"
  }
 },
 "nbformat": 4,
 "nbformat_minor": 0
}
